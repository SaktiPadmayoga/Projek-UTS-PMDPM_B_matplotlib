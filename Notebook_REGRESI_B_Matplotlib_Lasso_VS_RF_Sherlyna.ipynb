{
 "cells": [
  {
   "cell_type": "code",
   "execution_count": 1,
   "metadata": {},
   "outputs": [],
   "source": [
    "import pandas as pd\n",
    "import numpy as np\n",
    "from sklearn.model_selection import train_test_split\n",
    "from sklearn.preprocessing import OneHotEncoder\n",
    "from sklearn.compose import make_column_transformer\n",
    "from sklearn.feature_selection import SelectFromModel, SelectKBest, SelectPercentile, RFE\n",
    "from sklearn.model_selection import GridSearchCV, StratifiedKFold\n",
    "from sklearn.ensemble import GradientBoostingClassifier\n",
    "from sklearn.ensemble import RandomForestClassifier, RandomForestRegressor\n",
    "from sklearn.svm import SVC, SVR\n",
    "from sklearn.metrics import classification_report, confusion_matrix, ConfusionMatrixDisplay\n",
    "from sklearn.preprocessing import StandardScaler, MinMaxScaler\n",
    "from sklearn.pipeline import Pipeline\n",
    "from sklearn.tree import DecisionTreeClassifier\n",
    "from sklearn.linear_model import LogisticRegression\n",
    "from sklearn.metrics import mean_squared_error, mean_absolute_error\n",
    "from pandas.api.types import is_numeric_dtype\n",
    "from sklearn.linear_model import Ridge, Lasso\n",
    "import matplotlib.pyplot as plt"
   ]
  },
  {
   "cell_type": "code",
   "execution_count": null,
   "metadata": {},
   "outputs": [],
   "source": [
    "properti_price = pd.read_csv('/Users/saktiyoga/Downloads/Projek UTS_B_matplotlib/Dataset UTS_Gasal 2425.csv')\n",
    "properti_price.head(100)"
   ]
  },
  {
   "cell_type": "code",
   "execution_count": null,
   "metadata": {},
   "outputs": [],
   "source": [
    "properti_price2 = properti_price.drop('category', axis=1)\n",
    "properti_price2.head(100)"
   ]
  },
  {
   "cell_type": "code",
   "execution_count": null,
   "metadata": {},
   "outputs": [],
   "source": [
    "properti_price2.info"
   ]
  },
  {
   "cell_type": "code",
   "execution_count": null,
   "metadata": {},
   "outputs": [],
   "source": [
    "properti_price2.describe()"
   ]
  },
  {
   "cell_type": "code",
   "execution_count": null,
   "metadata": {},
   "outputs": [],
   "source": [
    "print(properti_price2['price'].value_counts())"
   ]
  },
  {
   "cell_type": "code",
   "execution_count": null,
   "metadata": {},
   "outputs": [],
   "source": [
    "print(\"data null \\n\", properti_price2.isnull().sum())\n",
    "print(\"data kosong \\n\", properti_price2.empty)\n",
    "print(\"data nan \\n\", properti_price2.isna().sum())"
   ]
  },
  {
   "cell_type": "code",
   "execution_count": null,
   "metadata": {},
   "outputs": [],
   "source": [
    "properti_price2.price.plot(kind='box')\n",
    "plt.gca().invert_yaxis()\n",
    "plt.show()"
   ]
  },
  {
   "cell_type": "code",
   "execution_count": null,
   "metadata": {},
   "outputs": [],
   "source": [
    "def remove_outlier(df_in):\n",
    "  for col_name in list(df_in):\n",
    "    if is_numeric_dtype(df_in[col_name]):\n",
    "      q1 = df_in[col_name].quantile(0.25)\n",
    "      q3 = df_in[col_name].quantile(0.75)\n",
    "\n",
    "      iqr = q3-q1\n",
    "      batas_atas = q3+(iqr*1.5)\n",
    "      batas_bawah = q1-(iqr*1.5)\n",
    "\n",
    "      df_out = df_in.loc[(df_in[col_name]>=batas_bawah) & (df_in[col_name]<=batas_atas)]\n",
    "\n",
    "  return df_out\n",
    "\n",
    "properti_price_clean = remove_outlier(properti_price2)\n",
    "print(\"Jumlah baris DataFrame sebelum di outlier\",properti_price2.shape[0])\n",
    "print(\"Jumlah baris DataFrame sesudah di outlier\",properti_price_clean.shape[0])\n",
    "properti_price_clean.price.plot(kind='box', vert=True)\n",
    "\n",
    "plt.gca().invert_yaxis()\n",
    "plt.show()"
   ]
  },
  {
   "cell_type": "code",
   "execution_count": null,
   "metadata": {},
   "outputs": [],
   "source": [
    "print(\"data null \\n\", properti_price_clean.isnull().sum())\n",
    "print(\"data kosong \\n\", properti_price_clean.empty)\n",
    "print(\"data nan \\n\", properti_price_clean.isna().sum())"
   ]
  },
  {
   "cell_type": "code",
   "execution_count": 11,
   "metadata": {},
   "outputs": [],
   "source": [
    "X_regress=properti_price_clean.drop('price',axis=1)\n",
    "y_regress=properti_price_clean.price\n",
    "\n",
    "X_train_price, X_test_price, y_train_price, y_test_price = train_test_split(X_regress, y_regress, test_size=0.20, random_state=84)"
   ]
  },
  {
   "cell_type": "code",
   "execution_count": null,
   "metadata": {},
   "outputs": [],
   "source": [
    "X_regress=properti_price_clean.drop('price',axis=1)\n",
    "y_regress=properti_price_clean.price\n",
    "\n",
    "X_train_ins, X_test_ins, y_train_ins, y_test_ins = train_test_split(X_regress, y_regress, test_size=0.20, random_state=84)\n",
    "cat_cols = X_train_ins.select_dtypes(include=['object']).columns.tolist()\n",
    "print(\"Kolom kategorik:\",cat_cols)\n",
    "\n",
    "transformer = make_column_transformer(\n",
    "    (OneHotEncoder(), cat_cols),\n",
    "    remainder = 'passthrough'\n",
    ")\n",
    "\n",
    "X_train_enc = transformer.fit_transform(X_train_ins)\n",
    "X_test_enc = transformer.transform(X_test_ins)\n",
    "\n",
    "df_train_enc = pd.DataFrame (X_train_enc, columns=transformer.get_feature_names_out())\n",
    "df_test_enc = pd.DataFrame (X_test_enc, columns=transformer.get_feature_names_out())\n",
    "\n",
    "df_train_enc.head(10)\n",
    "df_test_enc.head(10)"
   ]
  },
  {
   "cell_type": "code",
   "execution_count": null,
   "metadata": {},
   "outputs": [],
   "source": [
    "from sklearn.linear_model import Lasso\n",
    "from sklearn.model_selection import GridSearchCV\n",
    "from sklearn.pipeline import Pipeline\n",
    "from sklearn.preprocessing import StandardScaler\n",
    "from sklearn.feature_selection import SelectKBest, f_regression\n",
    "from sklearn.metrics import mean_absolute_error, mean_squared_error\n",
    "\n",
    "pipe_Lasso_KBest = Pipeline(steps=[\n",
    "            ('scale', StandardScaler()),\n",
    "            ('feature_selection', SelectKBest(score_func=f_regression)),\n",
    "            ('reg', Lasso(max_iter=1000)) #max_iter digunakan untuk menen\n",
    "            ])\n",
    "\n",
    "param_grid_Lasso_KBest = {\n",
    "    'reg__alpha': [0.01,0.1,1,10,100],\n",
    "    'feature_selection__k': np.arange(1,20)\n",
    "}\n",
    "\n",
    "GSCV_Lasso = GridSearchCV(pipe_Lasso_KBest, param_grid_Lasso_KBest, cv=5, scoring='neg_mean_squared_error')\n",
    "\n",
    "GSCV_Lasso.fit(X_train_enc, y_train_price)\n",
    "print(\"Best model:{}\".format(GSCV_Lasso.best_estimator_))\n",
    "print(\"Lasso best parameters: {}\".format(GSCV_Lasso.best_params_))\n",
    "\n",
    "print(\"Koefisien/bobot:{}\".format(GSCV_Lasso.best_estimator_.named_steps['reg'].coef_))\n",
    "print(\"Intercept/bias:{}\".format(GSCV_Lasso.best_estimator_.named_steps['reg'].intercept_))\n",
    "\n",
    "Lasso_predict = GSCV_Lasso.predict(X_test_enc)\n",
    "\n",
    "mse_Lasso = mean_squared_error(y_test_price, Lasso_predict)\n",
    "mae_Lasso = mean_absolute_error(y_test_price, Lasso_predict)\n",
    "\n",
    "print(\"Lasso Mean Squared Error (MSE): {}\".format(mse_Lasso))\n",
    "print(\"Lasso Mean Absolute Error (MAE): {}\".format(mae_Lasso))\n",
    "print(\"Lasso Root Mean Squared Error: {}\".format(np.sqrt(mse_Lasso)))"
   ]
  },
  {
   "cell_type": "code",
   "execution_count": null,
   "metadata": {},
   "outputs": [],
   "source": [
    "# df_results['Lasso KBest Prediction']=Lasso_predict\n",
    "df_results = pd.DataFrame(y_test_price)\n",
    "df_results['Lasso KBest Prediction']=Lasso_predict\n",
    "\n",
    "df_results['Selisih Price Lasso KBest'] = df_results['Lasso KBest Prediction'] - df_results['price'] \n",
    "df_results.head()"
   ]
  },
  {
   "cell_type": "code",
   "execution_count": null,
   "metadata": {},
   "outputs": [],
   "source": [
    "df_results.describe()"
   ]
  },
  {
   "cell_type": "code",
   "execution_count": null,
   "metadata": {},
   "outputs": [],
   "source": [
    "from sklearn.linear_model import Lasso\n",
    "from sklearn.model_selection import GridSearchCV\n",
    "from sklearn.pipeline import Pipeline\n",
    "from sklearn.preprocessing import StandardScaler\n",
    "from sklearn.feature_selection import SelectPercentile, f_regression\n",
    "from sklearn.metrics import mean_absolute_error, mean_squared_error\n",
    "\n",
    "pipe_Lasso_percentile = Pipeline(steps=[\n",
    "    ('scale', StandardScaler()),\n",
    "    ('feature_selection', SelectPercentile(score_func=f_regression)),  # Menggunakan SelectPercentile\n",
    "    ('reg', Lasso(max_iter=1000))\n",
    "])\n",
    "\n",
    "param_grid_Lasso_percentile = {\n",
    "    'reg__alpha': [0.01, 0.1, 1, 10, 100],\n",
    "    'feature_selection__percentile': np.arange(10, 100, 10)  # Menggunakan persentase fitur terbaik\n",
    "}\n",
    "\n",
    "GSCV_Lasso = GridSearchCV(pipe_Lasso_percentile, param_grid_Lasso_percentile, cv=5, scoring='neg_mean_squared_error')\n",
    "\n",
    "# Fit ke data latih\n",
    "GSCV_Lasso.fit(X_train_enc, y_train_price)\n",
    "\n",
    "# Hasil dari GridSearch\n",
    "print(\"Best model:{}\".format(GSCV_Lasso.best_estimator_))\n",
    "print(\"Lasso best parameters: {}\".format(GSCV_Lasso.best_params_))\n",
    "\n",
    "# Koefisien dan intercept dari model terbaik\n",
    "print(\"Koefisien/bobot:{}\".format(GSCV_Lasso.best_estimator_.named_steps['reg'].coef_))\n",
    "print(\"Intercept/bias:{}\".format(GSCV_Lasso.best_estimator_.named_steps['reg'].intercept_))\n",
    "\n",
    "# Prediksi terhadap data uji\n",
    "Lasso_predict = GSCV_Lasso.predict(X_test_enc)\n",
    "\n",
    "# Menghitung error\n",
    "mse_Lasso = mean_squared_error(y_test_price, Lasso_predict)\n",
    "mae_Lasso = mean_absolute_error(y_test_price, Lasso_predict)\n",
    "\n",
    "print(\"Lasso Mean Squared Error (MSE): {}\".format(mse_Lasso))\n",
    "print(\"Lasso Mean Absolute Error (MAE): {}\".format(mae_Lasso))\n",
    "print(\"Lasso Root Mean Squared Error: {}\".format(np.sqrt(mse_Lasso)))\n"
   ]
  },
  {
   "cell_type": "code",
   "execution_count": null,
   "metadata": {},
   "outputs": [],
   "source": [
    "df_results['Lasso Percentile Prediction']=Lasso_predict\n",
    "df_results = pd.DataFrame(y_test_price)\n",
    "df_results['Lasso Percentile Prediction']=Lasso_predict\n",
    "\n",
    "df_results['Selisih Price Lasso Percentile'] = df_results['Lasso Percentile Prediction'] - df_results['price'] \n",
    "df_results.head()"
   ]
  },
  {
   "cell_type": "code",
   "execution_count": null,
   "metadata": {},
   "outputs": [],
   "source": [
    "df_results.describe()"
   ]
  },
  {
   "cell_type": "code",
   "execution_count": null,
   "metadata": {},
   "outputs": [],
   "source": [
    "from sklearn.ensemble import RandomForestRegressor\n",
    "from sklearn.pipeline import Pipeline\n",
    "from sklearn.preprocessing import StandardScaler\n",
    "from sklearn.feature_selection import SelectPercentile, f_regression\n",
    "from sklearn.model_selection import GridSearchCV\n",
    "from sklearn.metrics import mean_absolute_error, mean_squared_error\n",
    "import numpy as np\n",
    "\n",
    "# Pipeline for Random Forest Regressor\n",
    "pipe_RF = Pipeline(steps=[\n",
    "    ('scale', StandardScaler()),\n",
    "    ('feature_selection', SelectPercentile(score_func=f_regression)),  # Pilih top percentile fitur\n",
    "    ('reg', RandomForestRegressor(random_state=84))  # Random Forest Regressor\n",
    "])\n",
    "\n",
    "# Parameter grid untuk GridSearchCV\n",
    "param_grid_RF = {\n",
    "    'reg__n_estimators': [100, 200],          # Jumlah pohon lebih sedikit\n",
    "    'reg__max_depth': [2,3],         # Variasi kedalaman terbatas\n",
    "    'feature_selection__percentile': np.arange(10, 50)  # Langkah 10 untuk persentil\n",
    "}\n",
    "\n",
    "# GridSearchCV to find the best parameters\n",
    "GSCV_RF = GridSearchCV(pipe_RF, param_grid_RF, cv=5, scoring='neg_mean_squared_error')\n",
    "\n",
    "# Fit to the training data\n",
    "GSCV_RF.fit(X_train_enc, y_train_price)\n",
    "\n",
    "# Best model and parameters\n",
    "print(\"Best model:{}\".format(GSCV_RF.best_estimator_))\n",
    "print(\"Random Forest best parameters: {}\".format(GSCV_RF.best_params_))\n",
    "\n",
    "# Make predictions on the test set\n",
    "RF_predict = GSCV_RF.predict(X_test_enc)\n",
    "\n",
    "# Calculate metrics\n",
    "mse_RF = mean_squared_error(y_test_price, RF_predict)\n",
    "mae_RF = mean_absolute_error(y_test_price, RF_predict)\n",
    "\n",
    "print(\"Random Forest Mean Squared Error (MSE): {}\".format(mse_RF))\n",
    "print(\"Random Forest Mean Absolute Error (MAE): {}\".format(mae_RF))\n",
    "print(\"Random Forest Root Mean Squared Error: {}\".format(np.sqrt(mse_RF)))\n"
   ]
  },
  {
   "cell_type": "code",
   "execution_count": null,
   "metadata": {},
   "outputs": [],
   "source": [
    "df_results['Random Forest Percentile Prediction']=RF_predict\n",
    "df_results = pd.DataFrame(y_test_price)\n",
    "df_results['Random Forest Percentile Prediction']=RF_predict\n",
    "\n",
    "df_results['Selisih Price RF Percentile'] = df_results['Random Forest Percentile Prediction'] - df_results['price'] \n",
    "df_results.head()"
   ]
  },
  {
   "cell_type": "code",
   "execution_count": null,
   "metadata": {},
   "outputs": [],
   "source": [
    "from sklearn.ensemble import RandomForestRegressor\n",
    "from sklearn.pipeline import Pipeline\n",
    "from sklearn.preprocessing import StandardScaler\n",
    "from sklearn.feature_selection import SelectKBest, f_regression\n",
    "from sklearn.model_selection import GridSearchCV\n",
    "from sklearn.metrics import mean_absolute_error, mean_squared_error\n",
    "import numpy as np\n",
    "\n",
    "# Pipeline for Random Forest Regressor\n",
    "pipe_RF_Kbest = Pipeline(steps=[\n",
    "    ('scale', StandardScaler()),\n",
    "    ('feature_selection', SelectKBest(score_func=f_regression)),  # Pilih top percentile fitur\n",
    "    ('reg', RandomForestRegressor(random_state=84))  # Random Forest Regressor\n",
    "])\n",
    "\n",
    "# Parameter grid untuk GridSearchCV\n",
    "param_grid_RF_Kbest = {\n",
    "    'reg__n_estimators': [100, 200],          # Jumlah pohon lebih sedikit\n",
    "    'reg__max_depth': [2,3],         # Variasi kedalaman terbatas\n",
    "    'feature_selection__k': np.arange(10, 50)  # Langkah 10 untuk persentil\n",
    "}\n",
    "\n",
    "# GridSearchCV to find the best parameters\n",
    "GSCV_RF = GridSearchCV(pipe_RF_Kbest, param_grid_RF_Kbest, cv=5, scoring='neg_mean_squared_error')\n",
    "\n",
    "# Fit to the training data\n",
    "GSCV_RF.fit(X_train_enc, y_train_price)\n",
    "\n",
    "# Best model and parameters\n",
    "print(\"Best model:{}\".format(GSCV_RF.best_estimator_))\n",
    "print(\"Random Forest best parameters: {}\".format(GSCV_RF.best_params_))\n",
    "\n",
    "# Make predictions on the test set\n",
    "RF_predict = GSCV_RF.predict(X_test_enc)\n",
    "\n",
    "# Calculate metrics\n",
    "mse_RF = mean_squared_error(y_test_price, RF_predict)\n",
    "mae_RF = mean_absolute_error(y_test_price, RF_predict)\n",
    "\n",
    "print(\"Random Forest Mean Squared Error (MSE): {}\".format(mse_RF))\n",
    "print(\"Random Forest Mean Absolute Error (MAE): {}\".format(mae_RF))\n",
    "print(\"Random Forest Root Mean Squared Error: {}\".format(np.sqrt(mse_RF)))\n"
   ]
  },
  {
   "cell_type": "code",
   "execution_count": null,
   "metadata": {},
   "outputs": [],
   "source": [
    "df_results['Random Forest KBest Prediction']=RF_predict\n",
    "df_results = pd.DataFrame(y_test_price)\n",
    "df_results['Random Forest KBest Prediction']=RF_predict\n",
    "\n",
    "df_results['Selisih Price RF KBest'] = df_results['Random Forest KBest Prediction'] - df_results['price'] \n",
    "df_results.head()"
   ]
  },
  {
   "cell_type": "code",
   "execution_count": null,
   "metadata": {},
   "outputs": [],
   "source": [
    "import pandas as pd\n",
    "import matplotlib.pyplot as plt\n",
    "\n",
    "# Misalkan Ridge_predict dan SVR_predict sudah didefinisikan sebelumnya\n",
    "# Ridge_predict = model_ridge.predict(X_test)\n",
    "# SVR_predict = model_svr.predict(X_test)\n",
    "\n",
    "# Mengonversi y_test_price menjadi DataFrame\n",
    "df_results = pd.DataFrame(y_test_price)\n",
    "\n",
    "# Menambahkan kolom prediksi\n",
    "df_results['Lasso KBest Prediction']=Lasso_predict\n",
    "df_results['Random Forest KBest Prediction']=RF_predict\n",
    "\n",
    "# Jika ada kolom lain yang perlu ditambahkan\n",
    "df_results['Lasso Percentile Prediction']=Lasso_predict\n",
    "df_results['Random Forest Percentile Prediction']=RF_predict\n",
    "\n",
    "# Menghitung selisih\n",
    "\n",
    "df_results['Selisih Price Lasso KBest'] = df_results['Lasso KBest Prediction'] - df_results['price']\n",
    "df_results['Selisih Price RF KBest'] = df_results['Random Forest KBest Prediction'] - df_results['price']\n",
    "\n",
    "# Menampilkan beberapa data teratas\n",
    "print(df_results.head())\n",
    "\n",
    "# Membuat plot\n",
    "plt.figure(figsize=(20, 5))\n",
    "data_len = range(len(y_test_price))\n",
    "plt.scatter(data_len, df_results['price'], label=\"Actual\", color=\"blue\")\n",
    "plt.plot(data_len, df_results['Lasso KBest Prediction'], label=\"Lasso KBest Prediction\", color=\"green\", linewidth=1, linestyle=\"dashed\")\n",
    "plt.plot(data_len, df_results['Lasso Percentile Prediction'], label=\"Lasso Percentile Prediction\", color=\"red\", linewidth=1, linestyle=\"dashed\")\n",
    "plt.plot(data_len, df_results['Random Forest KBest Prediction'], label=\"Random Forest KBest Prediction\", color=\"yellow\", linewidth=1, linestyle=\"-.\")\n",
    "plt.plot(data_len, df_results['Random Forest Percentile Prediction'], label=\"Random Forest Percentile Prediction\", color=\"black\", linewidth=1, linestyle=\"-.\")\n",
    "\n",
    "# Menambahkan legenda dan menampilkan plot\n",
    "plt.legend()\n",
    "plt.show()"
   ]
  },
  {
   "cell_type": "code",
   "execution_count": null,
   "metadata": {},
   "outputs": [],
   "source": [
    "import pickle\n",
    "best_model = GSCV_RF.best_estimator_\n",
    "\n",
    "with open('BestModel_REG_GSCV_RF_matplotlib.pkl', 'wb') as f:\n",
    "    pickle.dump(best_model, f)\n",
    "print(\"Model Terbaik berhasil disimpan ke 'BestModel_REG_GSCV_RF_matplotlib.pkl\")"
   ]
  }
 ],
 "metadata": {
  "kernelspec": {
   "display_name": "base",
   "language": "python",
   "name": "python3"
  },
  "language_info": {
   "codemirror_mode": {
    "name": "ipython",
    "version": 3
   },
   "file_extension": ".py",
   "mimetype": "text/x-python",
   "name": "python",
   "nbconvert_exporter": "python",
   "pygments_lexer": "ipython3",
   "version": "3.12.4"
  }
 },
 "nbformat": 4,
 "nbformat_minor": 2
}
